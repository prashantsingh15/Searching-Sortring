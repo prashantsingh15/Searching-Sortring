{
 "cells": [
  {
   "cell_type": "markdown",
   "metadata": {},
   "source": [
    "REMOVE CHARACTER---->For a given a string(str) and a character X, write a function to remove all the occurrences of X from the given string.\n",
    "The input string will remain unchanged if the given character(X) doesn't exist in the input string.\n",
    "Input Format:\n",
    "The first line of input contains a string without any leading and trailing spaces.\n",
    "\n",
    "The second line of input contains a character(X) without any leading and trailing spaces."
   ]
  },
  {
   "cell_type": "code",
   "execution_count": null,
   "metadata": {},
   "outputs": [],
   "source": [
    "from sys import stdin\n",
    "\n",
    "\n",
    "def removeAllOccurrencesOfChar(string, ch) :\n",
    "\t# Your code goes here\n",
    "    ans=''\n",
    "    for i in range(len(string)):\n",
    "        if string[i]!=ch:\n",
    "            ans += string[i]\n",
    "    \n",
    "    return ans\n",
    "\n",
    "\t\n",
    "\n",
    "#main\n",
    "string = stdin.readline().strip()\n",
    "ch = stdin.readline().strip()[0]\n",
    "\n",
    "ans = removeAllOccurrencesOfChar(string, ch)\n",
    "\n",
    "print(ans)"
   ]
  }
 ],
 "metadata": {
  "language_info": {
   "name": "python"
  },
  "orig_nbformat": 4
 },
 "nbformat": 4,
 "nbformat_minor": 2
}
