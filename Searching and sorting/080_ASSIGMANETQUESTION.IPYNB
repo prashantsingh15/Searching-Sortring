{
 "cells": [
  {
   "cell_type": "markdown",
   "metadata": {},
   "source": [
    "HIGHEST OCCURING CHARACTER--->For a given a string(str), find and return the highest occurring character.\n",
    "Example:\n",
    "Input String: \"abcdeapapqarr\"\n",
    "Expected Output: 'a'\n",
    "Since 'a' has appeared four times in the string which happens to be the highest frequency character, the answer would be 'a'."
   ]
  },
  {
   "cell_type": "code",
   "execution_count": null,
   "metadata": {},
   "outputs": [],
   "source": [
    "from sys import stdin\n",
    "\n",
    "def highestOccuringChar(string) :\n",
    "\t#Your code goes here\n",
    "    d = {}\n",
    "    for i in string:\n",
    "        d[i] = d.get(i, 0)+1\n",
    "    \n",
    "    ans = \"\"\n",
    "    val =  0\n",
    "    for i in string:\n",
    "        if d[i]>val:\n",
    "            ans = i\n",
    "            val = d[i]\n",
    "    \n",
    "    return ans\n",
    "\n",
    "\n",
    "\n",
    "#main\n",
    "string = stdin.readline().strip();\n",
    "ans = highestOccuringChar(string)\n",
    "\n",
    "print(ans)"
   ]
  }
 ],
 "metadata": {
  "language_info": {
   "name": "python"
  },
  "orig_nbformat": 4
 },
 "nbformat": 4,
 "nbformat_minor": 2
}
