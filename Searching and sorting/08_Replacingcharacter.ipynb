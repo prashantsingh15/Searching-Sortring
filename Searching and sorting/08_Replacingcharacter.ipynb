{
 "cells": [
  {
   "cell_type": "markdown",
   "metadata": {},
   "source": [
    "REPLACING CHARACTER"
   ]
  },
  {
   "cell_type": "code",
   "execution_count": 3,
   "metadata": {},
   "outputs": [
    {
     "name": "stdout",
     "output_type": "stream",
     "text": [
      "Praahant aingh\n"
     ]
    }
   ],
   "source": [
    "def replace(str,char1,char2):\n",
    "    newstr=\"\"\n",
    "    for char in str:\n",
    "        if(char==char1):\n",
    "            newstr += char2\n",
    "        else:\n",
    "            newstr +=char\n",
    "    return newstr\n",
    "\n",
    "str=\"Prashant singh\"\n",
    "str =replace(str,'s','a')\n",
    "print(str)"
   ]
  },
  {
   "cell_type": "code",
   "execution_count": 7,
   "metadata": {},
   "outputs": [
    {
     "name": "stdout",
     "output_type": "stream",
     "text": [
      "Abhinsvrsj\n"
     ]
    }
   ],
   "source": [
    "def replace(str,char1,char2):\n",
    "    newstr=\"\"\n",
    "    for char in str:\n",
    "        if(char==char1):\n",
    "            newstr +=char2\n",
    "        else:\n",
    "            newstr +=char\n",
    "    return newstr\n",
    "\n",
    "\n",
    "\n",
    "\n",
    "\n",
    "str=\"Abhinavraj\"\n",
    "str=replace(str,'a','s')\n",
    "\n",
    "print(str)\n"
   ]
  }
 ],
 "metadata": {
  "kernelspec": {
   "display_name": "Python 3.10.4 64-bit",
   "language": "python",
   "name": "python3"
  },
  "language_info": {
   "codemirror_mode": {
    "name": "ipython",
    "version": 3
   },
   "file_extension": ".py",
   "mimetype": "text/x-python",
   "name": "python",
   "nbconvert_exporter": "python",
   "pygments_lexer": "ipython3",
   "version": "3.10.4"
  },
  "orig_nbformat": 4,
  "vscode": {
   "interpreter": {
    "hash": "6f7fd0a179e80389ba6dbe3cc2b5d83289fc66b1449c68153b6b7ada600f427e"
   }
  }
 },
 "nbformat": 4,
 "nbformat_minor": 2
}
