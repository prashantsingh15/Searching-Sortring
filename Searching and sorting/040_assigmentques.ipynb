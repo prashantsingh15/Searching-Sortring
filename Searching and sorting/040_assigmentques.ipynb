{
 "cells": [
  {
   "cell_type": "markdown",
   "metadata": {},
   "source": [
    "CHECK PERMUTATION\n",
    "For a given two strings, 'str1' and 'str2', check whether they are a permutation of each other or not.\n"
   ]
  },
  {
   "cell_type": "code",
   "execution_count": null,
   "metadata": {},
   "outputs": [],
   "source": [
    "from sys import stdin\n",
    "def isPermutation(string1, string2) :\n",
    "    \n",
    "    s1=sorted(string1)\n",
    "    s2=sorted(string2)\n",
    "    if len(s1)!=len(s2):\n",
    "        return False\n",
    "    else:\n",
    "        for i in range(len(s1)):\n",
    "            if s1[i]!=s2[i]:\n",
    "                return False\n",
    "        return True\n",
    "#main\n",
    "string1 = stdin.readline().strip();\n",
    "string2 = stdin.readline().strip();\n",
    "ans = isPermutation(string1, string2)\n",
    "if ans :\n",
    "    print('true')\n",
    "else :\n",
    "    print('false')"
   ]
  }
 ],
 "metadata": {
  "language_info": {
   "name": "python"
  },
  "orig_nbformat": 4
 },
 "nbformat": 4,
 "nbformat_minor": 2
}
