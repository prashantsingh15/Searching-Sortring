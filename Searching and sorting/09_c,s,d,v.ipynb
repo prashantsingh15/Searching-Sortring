{
 "cells": [
  {
   "cell_type": "markdown",
   "metadata": {},
   "source": [
    "COUNT, VOWELS, CONSONANT,DIGIT AND SPECIAL CHARACTER"
   ]
  },
  {
   "cell_type": "code",
   "execution_count": 1,
   "metadata": {},
   "outputs": [
    {
     "name": "stdout",
     "output_type": "stream",
     "text": [
      "9 14 10 3\n"
     ]
    }
   ],
   "source": [
    "def countInString(str):\n",
    "    v,c,d,s=0,0,0,0\n",
    "    for char in str:\n",
    "        if((char>='a' and char<='z')or (char>='A' and char<='Z')):\n",
    "            char=char.lower()\n",
    "            if(char=='a' or char=='e' or char=='i' or char=='o' or char=='u'):\n",
    "                v+=1\n",
    "            else:\n",
    "                c+=1\n",
    "        elif(char>='0' and char<='9'):\n",
    "            d+=1\n",
    "        else:\n",
    "            s+=1\n",
    "    return v,c,d,s\n",
    "str='sfsaAFsawurioq2412141dsafd!@ afsa421'\n",
    "type(str[0])\n",
    "v,c,d,s=countInString(str)\n",
    "print(v,c,d,s)"
   ]
  }
 ],
 "metadata": {
  "kernelspec": {
   "display_name": "Python 3.10.4 64-bit",
   "language": "python",
   "name": "python3"
  },
  "language_info": {
   "codemirror_mode": {
    "name": "ipython",
    "version": 3
   },
   "file_extension": ".py",
   "mimetype": "text/x-python",
   "name": "python",
   "nbconvert_exporter": "python",
   "pygments_lexer": "ipython3",
   "version": "3.10.4"
  },
  "orig_nbformat": 4,
  "vscode": {
   "interpreter": {
    "hash": "6f7fd0a179e80389ba6dbe3cc2b5d83289fc66b1449c68153b6b7ada600f427e"
   }
  }
 },
 "nbformat": 4,
 "nbformat_minor": 2
}
