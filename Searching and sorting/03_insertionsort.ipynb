{
 "cells": [
  {
   "cell_type": "markdown",
   "metadata": {},
   "source": [
    "INSERTION SORT CODE"
   ]
  },
  {
   "cell_type": "code",
   "execution_count": 7,
   "metadata": {},
   "outputs": [
    {
     "name": "stdout",
     "output_type": "stream",
     "text": [
      "[1, 5, 6, 7, 8, 9, 10, 11]\n"
     ]
    }
   ],
   "source": [
    "def insertionSort(arr):\n",
    "    length = len(arr)\n",
    "    for i in range (1,length):\n",
    "        j = i -1\n",
    "        temp = arr[i]\n",
    "        #Shifting elements till this condition will not hold \n",
    "\n",
    "        while (j>=0 and arr[j]>temp): #If we do change in this while (j>=0 and *arr[j]<temp*) in given star box arr[j] is smaller then temp then it will opposite this nuymber \n",
    "            arr[j+1]= arr[j]\n",
    "            j= j-1\n",
    "\n",
    "        #j + 1 is correct posuitiomn for the i tbh element \n",
    "        arr[j+1]= temp\n",
    "\n",
    "\n",
    "arr=[9,8,5,6,7,1,10,11]\n",
    "insertionSort(arr) \n",
    "print(arr)"
   ]
  }
 ],
 "metadata": {
  "kernelspec": {
   "display_name": "Python 3.10.4 64-bit",
   "language": "python",
   "name": "python3"
  },
  "language_info": {
   "codemirror_mode": {
    "name": "ipython",
    "version": 3
   },
   "file_extension": ".py",
   "mimetype": "text/x-python",
   "name": "python",
   "nbconvert_exporter": "python",
   "pygments_lexer": "ipython3",
   "version": "3.10.4"
  },
  "orig_nbformat": 4,
  "vscode": {
   "interpreter": {
    "hash": "6f7fd0a179e80389ba6dbe3cc2b5d83289fc66b1449c68153b6b7ada600f427e"
   }
  }
 },
 "nbformat": 4,
 "nbformat_minor": 2
}
